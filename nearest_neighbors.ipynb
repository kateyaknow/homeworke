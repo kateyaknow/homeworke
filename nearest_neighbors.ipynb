{
  "cells": [
    {
      "cell_type": "code",
      "execution_count": 1,
      "id": "c0433cec",
      "metadata": {
        "deletable": false,
        "editable": false,
        "id": "c0433cec",
        "outputId": "aef5a3b7-c627-42ec-c991-06867fc51bfa",
        "colab": {
          "base_uri": "https://localhost:8080/"
        }
      },
      "outputs": [
        {
          "output_type": "stream",
          "name": "stdout",
          "text": [
            "\u001b[?25l   \u001b[90m━━━━━━━━━━━━━━━━━━━━━━━━━━━━━━━━━━━━━━━━\u001b[0m \u001b[32m0.0/142.5 kB\u001b[0m \u001b[31m?\u001b[0m eta \u001b[36m-:--:--\u001b[0m\r\u001b[2K   \u001b[90m━━━━━━━━━━━━━━━━━━━━━━━━━━━━━━━━━━━━━━━━\u001b[0m \u001b[32m142.5/142.5 kB\u001b[0m \u001b[31m5.8 MB/s\u001b[0m eta \u001b[36m0:00:00\u001b[0m\n",
            "\u001b[?25h\u001b[?25l   \u001b[90m━━━━━━━━━━━━━━━━━━━━━━━━━━━━━━━━━━━━━━━━\u001b[0m \u001b[32m0.0/101.6 kB\u001b[0m \u001b[31m?\u001b[0m eta \u001b[36m-:--:--\u001b[0m\r\u001b[2K   \u001b[90m━━━━━━━━━━━━━━━━━━━━━━━━━━━━━━━━━━━━━━━━\u001b[0m \u001b[32m101.6/101.6 kB\u001b[0m \u001b[31m8.6 MB/s\u001b[0m eta \u001b[36m0:00:00\u001b[0m\n",
            "\u001b[?25h\u001b[?25l   \u001b[90m━━━━━━━━━━━━━━━━━━━━━━━━━━━━━━━━━━━━━━━━\u001b[0m \u001b[32m0.0/139.8 kB\u001b[0m \u001b[31m?\u001b[0m eta \u001b[36m-:--:--\u001b[0m\r\u001b[2K   \u001b[90m━━━━━━━━━━━━━━━━━━━━━━━━━━━━━━━━━━━━━━━━\u001b[0m \u001b[32m139.8/139.8 kB\u001b[0m \u001b[31m6.0 MB/s\u001b[0m eta \u001b[36m0:00:00\u001b[0m\n",
            "\u001b[2K   \u001b[90m━━━━━━━━━━━━━━━━━━━━━━━━━━━━━━━━━━━━━━━━\u001b[0m \u001b[32m118.1/118.1 kB\u001b[0m \u001b[31m6.7 MB/s\u001b[0m eta \u001b[36m0:00:00\u001b[0m\n",
            "\u001b[2K   \u001b[90m━━━━━━━━━━━━━━━━━━━━━━━━━━━━━━━━━━━━━━━━\u001b[0m \u001b[32m1.6/1.6 MB\u001b[0m \u001b[31m40.1 MB/s\u001b[0m eta \u001b[36m0:00:00\u001b[0m\n",
            "\u001b[2K   \u001b[90m━━━━━━━━━━━━━━━━━━━━━━━━━━━━━━━━━━━━━━━━\u001b[0m \u001b[32m2.2/2.2 MB\u001b[0m \u001b[31m68.5 MB/s\u001b[0m eta \u001b[36m0:00:00\u001b[0m\n",
            "\u001b[2K   \u001b[90m━━━━━━━━━━━━━━━━━━━━━━━━━━━━━━━━━━━━━━━━\u001b[0m \u001b[32m45.9/45.9 MB\u001b[0m \u001b[31m17.0 MB/s\u001b[0m eta \u001b[36m0:00:00\u001b[0m\n",
            "\u001b[?25h"
          ]
        }
      ],
      "source": [
        "%pip install -q otter-grader"
      ]
    },
    {
      "cell_type": "code",
      "source": [
        "!git clone https://github.com/kateyaknow/homeworke"
      ],
      "metadata": {
        "id": "u_MJhZIY0lo7",
        "outputId": "d92be574-07b8-4584-fbb3-00bbb2bd4fb3",
        "colab": {
          "base_uri": "https://localhost:8080/"
        }
      },
      "id": "u_MJhZIY0lo7",
      "execution_count": 2,
      "outputs": [
        {
          "output_type": "stream",
          "name": "stdout",
          "text": [
            "Cloning into 'homeworke'...\n",
            "remote: Enumerating objects: 27, done.\u001b[K\n",
            "remote: Counting objects: 100% (27/27), done.\u001b[K\n",
            "remote: Compressing objects: 100% (26/26), done.\u001b[K\n",
            "remote: Total 27 (delta 9), reused 0 (delta 0), pack-reused 0 (from 0)\u001b[K\n",
            "Receiving objects: 100% (27/27), 19.67 KiB | 1.31 MiB/s, done.\n",
            "Resolving deltas: 100% (9/9), done.\n"
          ]
        }
      ]
    },
    {
      "cell_type": "code",
      "source": [
        "%cd homeworke"
      ],
      "metadata": {
        "id": "w-x4c9y_0rZA",
        "outputId": "6b9dc7f9-f401-44c7-e9f5-0af16b987227",
        "colab": {
          "base_uri": "https://localhost:8080/"
        }
      },
      "id": "w-x4c9y_0rZA",
      "execution_count": 3,
      "outputs": [
        {
          "output_type": "stream",
          "name": "stdout",
          "text": [
            "/content/homeworke\n"
          ]
        }
      ]
    },
    {
      "cell_type": "code",
      "execution_count": 4,
      "id": "121495f6",
      "metadata": {
        "deletable": false,
        "editable": false,
        "id": "121495f6"
      },
      "outputs": [],
      "source": [
        "# Initialize Otter\n",
        "import otter\n",
        "grader = otter.Notebook()"
      ]
    },
    {
      "cell_type": "markdown",
      "id": "ffbef5f9",
      "metadata": {
        "id": "ffbef5f9"
      },
      "source": [
        "# **Домашнее задание 2.** Метод K-ближайших соседей\n",
        "\n",
        "<p style=\"color:red\">  \n",
        "<b>Предупреждение:</b> в данном задании разрешено использовать только NumPy, Pandas и библиотеки для визуализации!\n",
        "</p>\n",
        "\n",
        "На семинаре мы познакомились с реализацией KNN в библиотеке scikit-learn, обучили модели для задач классификации и регрессии и оценили их качество на синтетических данных.\n",
        "\n",
        "Следуя высказыванию одного удивительного человека:\n",
        "\n",
        "> «What I cannot create, I do not understand.» — Richard Feynman\n",
        "\n",
        "в этом задании мы реализуем алгоритм k-ближайших соседей на чистом NumPy. Приступим!"
      ]
    },
    {
      "cell_type": "code",
      "execution_count": 5,
      "id": "118357c4",
      "metadata": {
        "id": "118357c4"
      },
      "outputs": [],
      "source": [
        "from typing import Any, Literal, Self\n",
        "\n",
        "import numpy as np\n",
        "import pandas as pd\n",
        "import seaborn as sns\n",
        "import matplotlib.pyplot as plt"
      ]
    },
    {
      "cell_type": "code",
      "execution_count": 6,
      "id": "48805117",
      "metadata": {
        "id": "48805117"
      },
      "outputs": [],
      "source": [
        "\n",
        "def convert_pandas_to_numpy(func: callable) -> callable:\n",
        "    def wrapper(*args: tuple[Any], **kwargs: dict[Any]):\n",
        "        args = tuple(arg.values if isinstance(arg, (pd.DataFrame, pd.Series)) else arg for arg in args)\n",
        "        kwargs = {\n",
        "            key: arg.values if isinstance(arg, (pd.DataFrame, pd.Series)) else arg\n",
        "            for key, arg in kwargs.items()\n",
        "        }  # fmt: skip\n",
        "\n",
        "        return func(*args, **kwargs)\n",
        "\n",
        "    return wrapper"
      ]
    },
    {
      "cell_type": "markdown",
      "id": "20f947ab",
      "metadata": {
        "deletable": false,
        "editable": false,
        "id": "20f947ab"
      },
      "source": [
        "### **Задание 0.** Предобработка данных\n",
        "\n",
        "Прочитайте данные из файла `Predict_Calorie_Expenditure_Dataset.csv`, при необходимости удалите пропущенные значения, проведите разведочный анализ данных.  \n",
        "\n",
        "_Данное задание не оценивается, но его выполнение необходимо для получения полного балла._\n",
        "\n",
        "_Points:_ 0"
      ]
    },
    {
      "cell_type": "code",
      "execution_count": 7,
      "id": "3ace4ac6",
      "metadata": {
        "tags": [
          "otter_answer_cell"
        ],
        "id": "3ace4ac6",
        "outputId": "8b5d70a9-628b-4629-9b7e-af7bca46cd22",
        "colab": {
          "base_uri": "https://localhost:8080/",
          "height": 255
        }
      },
      "outputs": [
        {
          "output_type": "stream",
          "name": "stdout",
          "text": [
            "data.shape = (5000, 8)\n"
          ]
        },
        {
          "output_type": "execute_result",
          "data": {
            "text/plain": [
              "           Sex  Age  Height  Weight  Duration  Heart_Rate  Body_Temp  Calories\n",
              "id                                                                            \n",
              "404846  female   56   163.0    61.0      29.0       108.0       40.8     200.0\n",
              "580313    male   44   179.0    87.0      13.0        94.0       40.3      64.0\n",
              "552086    male   41   186.0    84.0      10.0        89.0       39.9      39.0\n",
              "370876  female   38   161.0    58.0      19.0        98.0       40.6     103.0\n",
              "239330    male   57   181.0    77.0       9.0        98.0       40.0      52.0"
            ],
            "text/html": [
              "\n",
              "  <div id=\"df-d7cb9db2-6e93-449b-993c-e8319952403b\" class=\"colab-df-container\">\n",
              "    <div>\n",
              "<style scoped>\n",
              "    .dataframe tbody tr th:only-of-type {\n",
              "        vertical-align: middle;\n",
              "    }\n",
              "\n",
              "    .dataframe tbody tr th {\n",
              "        vertical-align: top;\n",
              "    }\n",
              "\n",
              "    .dataframe thead th {\n",
              "        text-align: right;\n",
              "    }\n",
              "</style>\n",
              "<table border=\"1\" class=\"dataframe\">\n",
              "  <thead>\n",
              "    <tr style=\"text-align: right;\">\n",
              "      <th></th>\n",
              "      <th>Sex</th>\n",
              "      <th>Age</th>\n",
              "      <th>Height</th>\n",
              "      <th>Weight</th>\n",
              "      <th>Duration</th>\n",
              "      <th>Heart_Rate</th>\n",
              "      <th>Body_Temp</th>\n",
              "      <th>Calories</th>\n",
              "    </tr>\n",
              "    <tr>\n",
              "      <th>id</th>\n",
              "      <th></th>\n",
              "      <th></th>\n",
              "      <th></th>\n",
              "      <th></th>\n",
              "      <th></th>\n",
              "      <th></th>\n",
              "      <th></th>\n",
              "      <th></th>\n",
              "    </tr>\n",
              "  </thead>\n",
              "  <tbody>\n",
              "    <tr>\n",
              "      <th>404846</th>\n",
              "      <td>female</td>\n",
              "      <td>56</td>\n",
              "      <td>163.0</td>\n",
              "      <td>61.0</td>\n",
              "      <td>29.0</td>\n",
              "      <td>108.0</td>\n",
              "      <td>40.8</td>\n",
              "      <td>200.0</td>\n",
              "    </tr>\n",
              "    <tr>\n",
              "      <th>580313</th>\n",
              "      <td>male</td>\n",
              "      <td>44</td>\n",
              "      <td>179.0</td>\n",
              "      <td>87.0</td>\n",
              "      <td>13.0</td>\n",
              "      <td>94.0</td>\n",
              "      <td>40.3</td>\n",
              "      <td>64.0</td>\n",
              "    </tr>\n",
              "    <tr>\n",
              "      <th>552086</th>\n",
              "      <td>male</td>\n",
              "      <td>41</td>\n",
              "      <td>186.0</td>\n",
              "      <td>84.0</td>\n",
              "      <td>10.0</td>\n",
              "      <td>89.0</td>\n",
              "      <td>39.9</td>\n",
              "      <td>39.0</td>\n",
              "    </tr>\n",
              "    <tr>\n",
              "      <th>370876</th>\n",
              "      <td>female</td>\n",
              "      <td>38</td>\n",
              "      <td>161.0</td>\n",
              "      <td>58.0</td>\n",
              "      <td>19.0</td>\n",
              "      <td>98.0</td>\n",
              "      <td>40.6</td>\n",
              "      <td>103.0</td>\n",
              "    </tr>\n",
              "    <tr>\n",
              "      <th>239330</th>\n",
              "      <td>male</td>\n",
              "      <td>57</td>\n",
              "      <td>181.0</td>\n",
              "      <td>77.0</td>\n",
              "      <td>9.0</td>\n",
              "      <td>98.0</td>\n",
              "      <td>40.0</td>\n",
              "      <td>52.0</td>\n",
              "    </tr>\n",
              "  </tbody>\n",
              "</table>\n",
              "</div>\n",
              "    <div class=\"colab-df-buttons\">\n",
              "\n",
              "  <div class=\"colab-df-container\">\n",
              "    <button class=\"colab-df-convert\" onclick=\"convertToInteractive('df-d7cb9db2-6e93-449b-993c-e8319952403b')\"\n",
              "            title=\"Convert this dataframe to an interactive table.\"\n",
              "            style=\"display:none;\">\n",
              "\n",
              "  <svg xmlns=\"http://www.w3.org/2000/svg\" height=\"24px\" viewBox=\"0 -960 960 960\">\n",
              "    <path d=\"M120-120v-720h720v720H120Zm60-500h600v-160H180v160Zm220 220h160v-160H400v160Zm0 220h160v-160H400v160ZM180-400h160v-160H180v160Zm440 0h160v-160H620v160ZM180-180h160v-160H180v160Zm440 0h160v-160H620v160Z\"/>\n",
              "  </svg>\n",
              "    </button>\n",
              "\n",
              "  <style>\n",
              "    .colab-df-container {\n",
              "      display:flex;\n",
              "      gap: 12px;\n",
              "    }\n",
              "\n",
              "    .colab-df-convert {\n",
              "      background-color: #E8F0FE;\n",
              "      border: none;\n",
              "      border-radius: 50%;\n",
              "      cursor: pointer;\n",
              "      display: none;\n",
              "      fill: #1967D2;\n",
              "      height: 32px;\n",
              "      padding: 0 0 0 0;\n",
              "      width: 32px;\n",
              "    }\n",
              "\n",
              "    .colab-df-convert:hover {\n",
              "      background-color: #E2EBFA;\n",
              "      box-shadow: 0px 1px 2px rgba(60, 64, 67, 0.3), 0px 1px 3px 1px rgba(60, 64, 67, 0.15);\n",
              "      fill: #174EA6;\n",
              "    }\n",
              "\n",
              "    .colab-df-buttons div {\n",
              "      margin-bottom: 4px;\n",
              "    }\n",
              "\n",
              "    [theme=dark] .colab-df-convert {\n",
              "      background-color: #3B4455;\n",
              "      fill: #D2E3FC;\n",
              "    }\n",
              "\n",
              "    [theme=dark] .colab-df-convert:hover {\n",
              "      background-color: #434B5C;\n",
              "      box-shadow: 0px 1px 3px 1px rgba(0, 0, 0, 0.15);\n",
              "      filter: drop-shadow(0px 1px 2px rgba(0, 0, 0, 0.3));\n",
              "      fill: #FFFFFF;\n",
              "    }\n",
              "  </style>\n",
              "\n",
              "    <script>\n",
              "      const buttonEl =\n",
              "        document.querySelector('#df-d7cb9db2-6e93-449b-993c-e8319952403b button.colab-df-convert');\n",
              "      buttonEl.style.display =\n",
              "        google.colab.kernel.accessAllowed ? 'block' : 'none';\n",
              "\n",
              "      async function convertToInteractive(key) {\n",
              "        const element = document.querySelector('#df-d7cb9db2-6e93-449b-993c-e8319952403b');\n",
              "        const dataTable =\n",
              "          await google.colab.kernel.invokeFunction('convertToInteractive',\n",
              "                                                    [key], {});\n",
              "        if (!dataTable) return;\n",
              "\n",
              "        const docLinkHtml = 'Like what you see? Visit the ' +\n",
              "          '<a target=\"_blank\" href=https://colab.research.google.com/notebooks/data_table.ipynb>data table notebook</a>'\n",
              "          + ' to learn more about interactive tables.';\n",
              "        element.innerHTML = '';\n",
              "        dataTable['output_type'] = 'display_data';\n",
              "        await google.colab.output.renderOutput(dataTable, element);\n",
              "        const docLink = document.createElement('div');\n",
              "        docLink.innerHTML = docLinkHtml;\n",
              "        element.appendChild(docLink);\n",
              "      }\n",
              "    </script>\n",
              "  </div>\n",
              "\n",
              "\n",
              "    <div id=\"df-b5769172-615d-4efd-ae2f-846770f338d4\">\n",
              "      <button class=\"colab-df-quickchart\" onclick=\"quickchart('df-b5769172-615d-4efd-ae2f-846770f338d4')\"\n",
              "                title=\"Suggest charts\"\n",
              "                style=\"display:none;\">\n",
              "\n",
              "<svg xmlns=\"http://www.w3.org/2000/svg\" height=\"24px\"viewBox=\"0 0 24 24\"\n",
              "     width=\"24px\">\n",
              "    <g>\n",
              "        <path d=\"M19 3H5c-1.1 0-2 .9-2 2v14c0 1.1.9 2 2 2h14c1.1 0 2-.9 2-2V5c0-1.1-.9-2-2-2zM9 17H7v-7h2v7zm4 0h-2V7h2v10zm4 0h-2v-4h2v4z\"/>\n",
              "    </g>\n",
              "</svg>\n",
              "      </button>\n",
              "\n",
              "<style>\n",
              "  .colab-df-quickchart {\n",
              "      --bg-color: #E8F0FE;\n",
              "      --fill-color: #1967D2;\n",
              "      --hover-bg-color: #E2EBFA;\n",
              "      --hover-fill-color: #174EA6;\n",
              "      --disabled-fill-color: #AAA;\n",
              "      --disabled-bg-color: #DDD;\n",
              "  }\n",
              "\n",
              "  [theme=dark] .colab-df-quickchart {\n",
              "      --bg-color: #3B4455;\n",
              "      --fill-color: #D2E3FC;\n",
              "      --hover-bg-color: #434B5C;\n",
              "      --hover-fill-color: #FFFFFF;\n",
              "      --disabled-bg-color: #3B4455;\n",
              "      --disabled-fill-color: #666;\n",
              "  }\n",
              "\n",
              "  .colab-df-quickchart {\n",
              "    background-color: var(--bg-color);\n",
              "    border: none;\n",
              "    border-radius: 50%;\n",
              "    cursor: pointer;\n",
              "    display: none;\n",
              "    fill: var(--fill-color);\n",
              "    height: 32px;\n",
              "    padding: 0;\n",
              "    width: 32px;\n",
              "  }\n",
              "\n",
              "  .colab-df-quickchart:hover {\n",
              "    background-color: var(--hover-bg-color);\n",
              "    box-shadow: 0 1px 2px rgba(60, 64, 67, 0.3), 0 1px 3px 1px rgba(60, 64, 67, 0.15);\n",
              "    fill: var(--button-hover-fill-color);\n",
              "  }\n",
              "\n",
              "  .colab-df-quickchart-complete:disabled,\n",
              "  .colab-df-quickchart-complete:disabled:hover {\n",
              "    background-color: var(--disabled-bg-color);\n",
              "    fill: var(--disabled-fill-color);\n",
              "    box-shadow: none;\n",
              "  }\n",
              "\n",
              "  .colab-df-spinner {\n",
              "    border: 2px solid var(--fill-color);\n",
              "    border-color: transparent;\n",
              "    border-bottom-color: var(--fill-color);\n",
              "    animation:\n",
              "      spin 1s steps(1) infinite;\n",
              "  }\n",
              "\n",
              "  @keyframes spin {\n",
              "    0% {\n",
              "      border-color: transparent;\n",
              "      border-bottom-color: var(--fill-color);\n",
              "      border-left-color: var(--fill-color);\n",
              "    }\n",
              "    20% {\n",
              "      border-color: transparent;\n",
              "      border-left-color: var(--fill-color);\n",
              "      border-top-color: var(--fill-color);\n",
              "    }\n",
              "    30% {\n",
              "      border-color: transparent;\n",
              "      border-left-color: var(--fill-color);\n",
              "      border-top-color: var(--fill-color);\n",
              "      border-right-color: var(--fill-color);\n",
              "    }\n",
              "    40% {\n",
              "      border-color: transparent;\n",
              "      border-right-color: var(--fill-color);\n",
              "      border-top-color: var(--fill-color);\n",
              "    }\n",
              "    60% {\n",
              "      border-color: transparent;\n",
              "      border-right-color: var(--fill-color);\n",
              "    }\n",
              "    80% {\n",
              "      border-color: transparent;\n",
              "      border-right-color: var(--fill-color);\n",
              "      border-bottom-color: var(--fill-color);\n",
              "    }\n",
              "    90% {\n",
              "      border-color: transparent;\n",
              "      border-bottom-color: var(--fill-color);\n",
              "    }\n",
              "  }\n",
              "</style>\n",
              "\n",
              "      <script>\n",
              "        async function quickchart(key) {\n",
              "          const quickchartButtonEl =\n",
              "            document.querySelector('#' + key + ' button');\n",
              "          quickchartButtonEl.disabled = true;  // To prevent multiple clicks.\n",
              "          quickchartButtonEl.classList.add('colab-df-spinner');\n",
              "          try {\n",
              "            const charts = await google.colab.kernel.invokeFunction(\n",
              "                'suggestCharts', [key], {});\n",
              "          } catch (error) {\n",
              "            console.error('Error during call to suggestCharts:', error);\n",
              "          }\n",
              "          quickchartButtonEl.classList.remove('colab-df-spinner');\n",
              "          quickchartButtonEl.classList.add('colab-df-quickchart-complete');\n",
              "        }\n",
              "        (() => {\n",
              "          let quickchartButtonEl =\n",
              "            document.querySelector('#df-b5769172-615d-4efd-ae2f-846770f338d4 button');\n",
              "          quickchartButtonEl.style.display =\n",
              "            google.colab.kernel.accessAllowed ? 'block' : 'none';\n",
              "        })();\n",
              "      </script>\n",
              "    </div>\n",
              "\n",
              "    </div>\n",
              "  </div>\n"
            ],
            "application/vnd.google.colaboratory.intrinsic+json": {
              "type": "dataframe",
              "variable_name": "data",
              "summary": "{\n  \"name\": \"data\",\n  \"rows\": 5000,\n  \"fields\": [\n    {\n      \"column\": \"id\",\n      \"properties\": {\n        \"dtype\": \"number\",\n        \"std\": 214059,\n        \"min\": 158,\n        \"max\": 749975,\n        \"num_unique_values\": 5000,\n        \"samples\": [\n          274227,\n          129122,\n          548320\n        ],\n        \"semantic_type\": \"\",\n        \"description\": \"\"\n      }\n    },\n    {\n      \"column\": \"Sex\",\n      \"properties\": {\n        \"dtype\": \"category\",\n        \"num_unique_values\": 2,\n        \"samples\": [\n          \"male\",\n          \"female\"\n        ],\n        \"semantic_type\": \"\",\n        \"description\": \"\"\n      }\n    },\n    {\n      \"column\": \"Age\",\n      \"properties\": {\n        \"dtype\": \"number\",\n        \"std\": 15,\n        \"min\": 20,\n        \"max\": 79,\n        \"num_unique_values\": 60,\n        \"samples\": [\n          56,\n          24\n        ],\n        \"semantic_type\": \"\",\n        \"description\": \"\"\n      }\n    },\n    {\n      \"column\": \"Height\",\n      \"properties\": {\n        \"dtype\": \"number\",\n        \"std\": 13.083622449278971,\n        \"min\": 140.0,\n        \"max\": 212.0,\n        \"num_unique_values\": 68,\n        \"samples\": [\n          180.0,\n          170.0\n        ],\n        \"semantic_type\": \"\",\n        \"description\": \"\"\n      }\n    },\n    {\n      \"column\": \"Weight\",\n      \"properties\": {\n        \"dtype\": \"number\",\n        \"std\": 14.130384444625543,\n        \"min\": 48.0,\n        \"max\": 117.0,\n        \"num_unique_values\": 65,\n        \"samples\": [\n          103.0,\n          112.0\n        ],\n        \"semantic_type\": \"\",\n        \"description\": \"\"\n      }\n    },\n    {\n      \"column\": \"Duration\",\n      \"properties\": {\n        \"dtype\": \"number\",\n        \"std\": 8.363766230419868,\n        \"min\": 1.0,\n        \"max\": 30.0,\n        \"num_unique_values\": 30,\n        \"samples\": [\n          26.0,\n          14.0\n        ],\n        \"semantic_type\": \"\",\n        \"description\": \"\"\n      }\n    },\n    {\n      \"column\": \"Heart_Rate\",\n      \"properties\": {\n        \"dtype\": \"number\",\n        \"std\": 9.417661664672808,\n        \"min\": 68.0,\n        \"max\": 122.0,\n        \"num_unique_values\": 52,\n        \"samples\": [\n          84.0,\n          116.0\n        ],\n        \"semantic_type\": \"\",\n        \"description\": \"\"\n      }\n    },\n    {\n      \"column\": \"Body_Temp\",\n      \"properties\": {\n        \"dtype\": \"number\",\n        \"std\": 0.7829190139704598,\n        \"min\": 37.1,\n        \"max\": 41.4,\n        \"num_unique_values\": 42,\n        \"samples\": [\n          38.6,\n          39.0\n        ],\n        \"semantic_type\": \"\",\n        \"description\": \"\"\n      }\n    },\n    {\n      \"column\": \"Calories\",\n      \"properties\": {\n        \"dtype\": \"number\",\n        \"std\": 62.578693122552394,\n        \"min\": 1.0,\n        \"max\": 271.0,\n        \"num_unique_values\": 258,\n        \"samples\": [\n          174.0,\n          91.0\n        ],\n        \"semantic_type\": \"\",\n        \"description\": \"\"\n      }\n    }\n  ]\n}"
            }
          },
          "metadata": {},
          "execution_count": 7
        }
      ],
      "source": [
        "data = pd.read_csv('https://raw.githubusercontent.com/ArtemF42/hse-fbb-ml-course-public/refs/heads/main/homeworks/02_nearest_neighbors/Predict_Calorie_Expenditure_Dataset.csv', index_col='id')\n",
        "data = data.sample(5_000, random_state=42)\n",
        "data=data.dropna()\n",
        "print(f\"{data.shape = }\")\n",
        "data.head()"
      ]
    },
    {
      "cell_type": "code",
      "execution_count": 8,
      "id": "ed57ba95",
      "metadata": {
        "deletable": false,
        "editable": false,
        "id": "ed57ba95",
        "outputId": "a168eaa0-eb4a-44f9-a5f2-8507575f6d1e",
        "colab": {
          "base_uri": "https://localhost:8080/",
          "height": 46
        }
      },
      "outputs": [
        {
          "output_type": "execute_result",
          "data": {
            "text/plain": [
              "Task0 results: All test cases passed!"
            ],
            "text/html": [
              "<p><strong><pre style='display: inline;'>Task0</pre></strong> passed! 💯</p>"
            ]
          },
          "metadata": {},
          "execution_count": 8
        }
      ],
      "source": [
        "grader.check(\"Task0\")"
      ]
    },
    {
      "cell_type": "markdown",
      "id": "03610795",
      "metadata": {
        "id": "03610795"
      },
      "source": [
        "Разобьем данные на обучающую, валидационную и тестовые подвыборки"
      ]
    },
    {
      "cell_type": "code",
      "execution_count": 9,
      "id": "d67c8929",
      "metadata": {
        "id": "d67c8929",
        "outputId": "1c28ce44-3563-45d9-ab14-043863fdd887",
        "colab": {
          "base_uri": "https://localhost:8080/"
        }
      },
      "outputs": [
        {
          "output_type": "stream",
          "name": "stdout",
          "text": [
            "Размер обучающей выборки:\t4000 объектов\n",
            "Размер тестовой выборки:\t1000 объектов\n"
          ]
        }
      ],
      "source": [
        "X, y = data.drop(columns=\"Calories\"), data[\"Calories\"]\n",
        "\n",
        "X_test = X.sample(frac=0.2, random_state=42)\n",
        "test_idx = X_test.index\n",
        "y_test = y.loc[test_idx]\n",
        "\n",
        "train_idx = X.index.difference(test_idx)\n",
        "X_train = X.loc[train_idx]\n",
        "y_train = y.loc[train_idx]\n",
        "\n",
        "print(f\"Размер обучающей выборки:\\t{y_train.size} объектов\")\n",
        "print(f\"Размер тестовой выборки:\\t{y_test.size} объектов\")"
      ]
    },
    {
      "cell_type": "markdown",
      "id": "1d54ef7f",
      "metadata": {
        "deletable": false,
        "editable": false,
        "id": "1d54ef7f"
      },
      "source": [
        "### **Задание 1.** Евклидово расстояние\n",
        "\n",
        "<p style=\"color:red\">  \n",
        "<b>Предупреждение:</b> использование циклов <code>for</code> и <code>while</code> в данном задании запрещено!  \n",
        "</p>  \n",
        "\n",
        "Пусть матрица $ X_A \\in \\mathbb{R}^{n \\times d} $ содержит объекты с известными целевыми переменными, а матрица $ X_B \\in \\mathbb{R}^{m \\times d} $ — объекты, для которых мы хотим сделать предсказания. Для применения модели KNN нам необходимо научиться считать матрицу расстояний $ D \\in \\mathbb{R}^{n \\times m} $.\n",
        "\n",
        "В теории мы могли бы, используя вложенные циклы, пройти по строкам первой и второй матриц, считая расстояния между ними, но ярко-красное предупреждение выше не рекомендует нам этого делать. Значит, будем искать другой способ, а для этого посмотрим внимательнее на определение евклидова расстояния:\n",
        "\n",
        "$$\n",
        "d(\\mathbf{v}, \\mathbf{u}) = \\sqrt{\\sum_{i=1}^{d} (v_i - u_i)^2}, \\quad \\mathbf{v},\\, \\mathbf{u} \\in \\mathbb{R}^d.\n",
        "$$\n",
        "\n",
        "Теперь избавимся от корня:\n",
        "\n",
        "$$\n",
        "\\begin{aligned}\n",
        "d^2(\\mathbf{v}, \\mathbf{u})\n",
        "&= \\sum_{i=1}^{d} (v_i - u_i)^2 \\\\\n",
        "&= \\sum_{i=1}^{d} v_i^2 + \\sum_{i=1}^{d} u_i^2 - 2 \\sum_{i=1}^{d} v_i u_i \\\\\n",
        "&= \\lVert \\mathbf{v} \\rVert^2 + \\lVert \\mathbf{u} \\rVert^2 - 2\\,\\mathbf{v}\\cdot\\mathbf{u}.\n",
        "\\end{aligned}\n",
        "$$\n",
        "\n",
        "Иными словами, для расчета евклидова расстояния в матричной форме нам всего-то и нужно, что посчитать нормы векторов в исходных матрицах и найти матрицу скалярных произведений. С этим уже можно работать!\n",
        "\n",
        "**Подсказка:** рассмотрите произведение $ X_A X_B^\\top $."
      ]
    },
    {
      "cell_type": "markdown",
      "id": "1b319703",
      "metadata": {
        "deletable": false,
        "editable": false,
        "id": "1b319703"
      },
      "source": [
        "Реализуйте функцию `cdist`, которая вычисляет евклидовы расстояния между строками двух матриц.\n",
        "\n",
        "_Points:_ 5"
      ]
    },
    {
      "cell_type": "code",
      "execution_count": 10,
      "id": "95434049",
      "metadata": {
        "tags": [
          "otter_answer_cell"
        ],
        "id": "95434049"
      },
      "outputs": [],
      "source": [
        "@convert_pandas_to_numpy\n",
        "def cdist(XA: np.ndarray, XB: np.ndarray) -> np.ndarray:\n",
        "    \"\"\"Вычисляет матрицу евклидовых расстояний между векторами из двух входных матриц.\n",
        "\n",
        "    Args:\n",
        "        XA (np.ndarray): Матрица размера (n, d), содержащая n d-мерных векторов.\n",
        "        XB (np.ndarray): Матрица размера (m, d), содержащая m d-мерных векторов.\n",
        "\n",
        "    Returns:\n",
        "        np.ndarray: Матрица расстояний размера (n, m).\n",
        "    \"\"\"\n",
        "    XA_sq = np.sum(XA**2, axis=1).reshape(-1,1)\n",
        "    XB_sq = np.sum(XB**2, axis=1).reshape(1,-1)\n",
        "    return np.sqrt(XA_sq+XB_sq-2*XA@XB.T)"
      ]
    },
    {
      "cell_type": "code",
      "execution_count": 11,
      "id": "b6f39f1b",
      "metadata": {
        "deletable": false,
        "editable": false,
        "id": "b6f39f1b",
        "outputId": "120ed44f-2aa0-4c46-f07a-099f60bef1eb",
        "colab": {
          "base_uri": "https://localhost:8080/",
          "height": 46
        }
      },
      "outputs": [
        {
          "output_type": "execute_result",
          "data": {
            "text/plain": [
              "Task1 results: All test cases passed!"
            ],
            "text/html": [
              "<p><strong><pre style='display: inline;'>Task1</pre></strong> passed! 🍀</p>"
            ]
          },
          "metadata": {},
          "execution_count": 11
        }
      ],
      "source": [
        "grader.check(\"Task1\")"
      ]
    },
    {
      "cell_type": "markdown",
      "id": "84e92155",
      "metadata": {
        "deletable": false,
        "editable": false,
        "id": "84e92155"
      },
      "source": [
        "### **Задание 2.** Базовый класс\n",
        "\n",
        "Наконец, мы готовы приступить к имплементации KNN. Сначала создадим базовый класс, который будет содержать логику обучения и поиска ближайших соседей.\n",
        "\n",
        "_Points:_ 5"
      ]
    },
    {
      "cell_type": "code",
      "execution_count": 12,
      "id": "bf8688ab",
      "metadata": {
        "tags": [
          "otter_answer_cell"
        ],
        "id": "bf8688ab"
      },
      "outputs": [],
      "source": [
        "class KNeighborsModel:\n",
        "    def __init__(self, n_neighbors: int = 5, weights: Literal[\"uniform\", \"distance\"] = \"uniform\") -> None:\n",
        "        \"\"\"\n",
        "        Args:\n",
        "            n_neighbors (int): Количество ближайших соседей K.\n",
        "            weights (Literal[\"uniform\", \"distance\"]): Метод агрегации целевых переменных соседей.\n",
        "                По умолчанию равен uniform.\n",
        "        \"\"\"\n",
        "        self.n_neighbors = n_neighbors\n",
        "        self.weights = weights\n",
        "\n",
        "    @convert_pandas_to_numpy\n",
        "    def fit(self, X: np.ndarray, y: np.ndarray) -> Self:\n",
        "        \"\"\"Обучает модель.\n",
        "\n",
        "        Args:\n",
        "            X (np.ndarray): Матрица размера (n, d), где n - количество объектов, d - количество признаков.\n",
        "            y (np.ndarray): Вектор целевых переменных размера (n,).\n",
        "\n",
        "        Returns:\n",
        "            Self: Обученная модель.\n",
        "        \"\"\"\n",
        "        assert X.shape[0] == y.shape[0], \"`X` и `y` должны иметь одинаковую длину.\"\n",
        "        y=y.reshape(-1,)\n",
        "        self.x_train = X\n",
        "        self.y_train = y\n",
        "\n",
        "        return self\n",
        "\n",
        "    @convert_pandas_to_numpy\n",
        "    def predict(self, X: np.ndarray) -> np.ndarray:\n",
        "        neighbors, distances = self._find_neighbors(X)\n",
        "        return self._aggregate(neighbors, distances)\n",
        "\n",
        "    def _find_neighbors(self, X: np.ndarray) -> tuple[np.ndarray, np.ndarray]:\n",
        "        \"\"\"Находит K-ближайших соседей.\n",
        "\n",
        "        Args:\n",
        "            X (np.ndarray): Матрица размера (m, d), где m - количество объектов, d - количество признаков.\n",
        "\n",
        "        Returns:\n",
        "            tuple[np.ndarray, np.ndarray]: Кортеж (neighbors, distances), где\n",
        "                neighbors (m, k) - целевые переменные ближайших соседей,\n",
        "                distances (m, k) - расстояния до ближайших соседей.\n",
        "        \"\"\"\n",
        "        distances = cdist(X,self.x_train)\n",
        "        idx = np.argsort(distances, axis=1)[:,:self.n_neighbors]\n",
        "        nearest_distances = np.take_along_axis(distances, idx, axis=1)\n",
        "        nearest_neighbors = self.y_train[idx]\n",
        "        return nearest_neighbors, nearest_distances\n",
        "\n",
        "    def _aggregate(self, neighbors: np.ndarray, distances: np.ndarray) -> np.ndarray:\n",
        "        if self.weights == \"uniform\":\n",
        "            return self._aggregate_uniform(neighbors)\n",
        "        else:\n",
        "            weights = 1/(distances+1e-8)\n",
        "            return self._aggregate_weighted(neighbors, weights)\n",
        "\n",
        "    def _aggregate_uniform(self, neighbors: np.ndarray) -> np.ndarray:\n",
        "      #  raise NotImplementedError\n",
        "        preds = []\n",
        "        for row in neighbors:\n",
        "          values, counts = np.unique(row, return_counts=True)\n",
        "          most_counts = values[np.argmax(counts)]\n",
        "          preds.append(most_counts)\n",
        "        return np.array(preds)\n",
        "    def _aggregate_weighted(self, neighbors: np.ndarray, weights: np.ndarray) -> np.ndarray:\n",
        "    #    raise NotImplementedError\n",
        "      classes = np.unique(self.y_train)\n",
        "      preds = []\n",
        "      for i in range(neighbors.shape[0]):\n",
        "        votes ={cls:0.0 for cls in classes}\n",
        "        for label, w in zip(neighbors[i], weights[i]):\n",
        "          votes[label]+=np.sum(w[label==neighbors[i]])\n",
        "        preds.append(max(votes,key=votes.get))\n",
        "      return np.array(preds)"
      ]
    },
    {
      "cell_type": "code",
      "source": [
        "reg = KNeighborsModel(n_neighbors=1).fit(np.array([[0.3], [0.4], [0.0]]), np.array([1, 1, 0]))\n",
        "neighbors, distances = reg._find_neighbors(np.array([[0.1]]))\n",
        "#assert neighbors.item() == 0\n",
        "#assert np.isclose(distances.item(), 0.1)"
      ],
      "metadata": {
        "id": "tSsbW15PGvQN"
      },
      "id": "tSsbW15PGvQN",
      "execution_count": 13,
      "outputs": []
    },
    {
      "cell_type": "code",
      "source": [
        "reg = KNeighborsModel(n_neighbors=1).fit(np.array([[0.3], [0.4], [0.0]]), np.array([1, 1, 0]))\n",
        "neighbors, distances = reg._find_neighbors(np.array([[0.1]]))\n",
        "print(neighbors, distances)"
      ],
      "metadata": {
        "id": "r3qtdnjsOxkO",
        "outputId": "c5c0c743-4d92-4614-b00a-5161009ced68",
        "colab": {
          "base_uri": "https://localhost:8080/"
        }
      },
      "id": "r3qtdnjsOxkO",
      "execution_count": 14,
      "outputs": [
        {
          "output_type": "stream",
          "name": "stdout",
          "text": [
            "[[0]] [[0.1]]\n"
          ]
        }
      ]
    },
    {
      "cell_type": "code",
      "execution_count": 15,
      "id": "41dce930",
      "metadata": {
        "deletable": false,
        "editable": false,
        "id": "41dce930",
        "outputId": "6472a969-79de-406b-bbb5-5378d2f5cd2e",
        "colab": {
          "base_uri": "https://localhost:8080/",
          "height": 46
        }
      },
      "outputs": [
        {
          "output_type": "execute_result",
          "data": {
            "text/plain": [
              "Task2 results: All test cases passed!"
            ],
            "text/html": [
              "<p><strong><pre style='display: inline;'>Task2</pre></strong> passed! 🎉</p>"
            ]
          },
          "metadata": {},
          "execution_count": 15
        }
      ],
      "source": [
        "grader.check(\"Task2\")"
      ]
    },
    {
      "cell_type": "markdown",
      "id": "d2a9c193",
      "metadata": {
        "deletable": false,
        "editable": false,
        "id": "d2a9c193"
      },
      "source": [
        "### **Задание 3**. Метод K-ближайших соседей для задачи регрессии\n",
        "\n",
        "_Points:_ 2"
      ]
    },
    {
      "cell_type": "code",
      "execution_count": 16,
      "id": "7519b3f9",
      "metadata": {
        "tags": [
          "otter_answer_cell"
        ],
        "id": "7519b3f9"
      },
      "outputs": [],
      "source": [
        "class KNeighborsRegressor(KNeighborsModel):\n",
        "    def _aggregate_uniform(self, neighbors: np.ndarray) -> np.ndarray:\n",
        "        return np.mean(neighbors,axis=1)\n",
        "\n",
        "    def _aggregate_weighted(self, neighbors: np.ndarray, weights: np.ndarray) -> np.ndarray:\n",
        "        return(np.sum(neighbors*weights,axis=1)/np.sum(weights,axis=1))"
      ]
    },
    {
      "cell_type": "code",
      "source": [
        "neighbors = np.array([[0.4, 0.3, 0.2, 0.1, 0.1]])\n",
        "weights = 1 / np.array([[1.0, 1.0, 1.0, 3.0, 4.0]])\n",
        "np.isclose(KNeighborsRegressor()._aggregate_uniform(neighbors), 0.22)"
      ],
      "metadata": {
        "id": "lZs_r8zgUfqM",
        "outputId": "f18bbc79-8f8a-4901-8575-762bd44bd0bd",
        "colab": {
          "base_uri": "https://localhost:8080/"
        }
      },
      "id": "lZs_r8zgUfqM",
      "execution_count": 17,
      "outputs": [
        {
          "output_type": "execute_result",
          "data": {
            "text/plain": [
              "array([ True])"
            ]
          },
          "metadata": {},
          "execution_count": 17
        }
      ]
    },
    {
      "cell_type": "code",
      "source": [
        "np.isclose(KNeighborsRegressor(weights='distance')._aggregate_weighted(neighbors, weights), 0.267, atol=0.001)"
      ],
      "metadata": {
        "id": "VePsQZMaVkEU",
        "outputId": "fdc2cd09-282e-4838-a34c-29f69f83caca",
        "colab": {
          "base_uri": "https://localhost:8080/"
        }
      },
      "id": "VePsQZMaVkEU",
      "execution_count": 18,
      "outputs": [
        {
          "output_type": "execute_result",
          "data": {
            "text/plain": [
              "array([ True])"
            ]
          },
          "metadata": {},
          "execution_count": 18
        }
      ]
    },
    {
      "cell_type": "code",
      "execution_count": 19,
      "id": "df8123df",
      "metadata": {
        "deletable": false,
        "editable": false,
        "id": "df8123df",
        "outputId": "90f703c9-ffb3-42cd-99ba-0be84cd447a2",
        "colab": {
          "base_uri": "https://localhost:8080/",
          "height": 46
        }
      },
      "outputs": [
        {
          "output_type": "execute_result",
          "data": {
            "text/plain": [
              "Task3 results: All test cases passed!"
            ],
            "text/html": [
              "<p><strong><pre style='display: inline;'>Task3</pre></strong> passed! 🙌</p>"
            ]
          },
          "metadata": {},
          "execution_count": 19
        }
      ],
      "source": [
        "grader.check(\"Task3\")"
      ]
    },
    {
      "cell_type": "markdown",
      "id": "dc40dfac",
      "metadata": {
        "deletable": false,
        "editable": false,
        "id": "dc40dfac"
      },
      "source": [
        "### **Задание 4.** Метрики качества регрессии. Root Mean Squared Error (RMSE)\n",
        "\n",
        "Для оценки качества модели будем использовать корень из среднеквадратичной ошибки (root mean squared error, RMSE):\n",
        "\n",
        "$$\n",
        "\\text{RMSE}(\\mathbf{y}, \\hat{\\mathbf{y}}) = \\sqrt{\\frac{1}{m} \\sum_{i=1}^{m} (y_i - \\hat{y}_i) ^ 2}.\n",
        "$$\n",
        "\n",
        "_Points:_ 2"
      ]
    },
    {
      "cell_type": "code",
      "execution_count": 20,
      "id": "ef9b5daa",
      "metadata": {
        "tags": [
          "otter_answer_cell"
        ],
        "id": "ef9b5daa"
      },
      "outputs": [],
      "source": [
        "def root_mean_squared_error(y_true: np.ndarray, y_pred: np.ndarray) -> np.ndarray:\n",
        "    \"\"\"Рассчитывает RMSE.\n",
        "\n",
        "    Args:\n",
        "        y_true (np.ndarray): Истинные значения целевой переменной.\n",
        "        y_pred (np.ndarray): Предсказанные значения целевой переменной.\n",
        "\n",
        "    Returns:\n",
        "        np.ndarray: Значение метрики RMSE.\n",
        "    \"\"\"\n",
        "    assert y_true.shape == y_pred.shape, \"Размеры `y_true` и `y_pred` должны совпадать.\"\n",
        "    return np.sqrt(1/y_true.shape[0]*np.sum((y_pred-y_true)**2))"
      ]
    },
    {
      "cell_type": "code",
      "source": [
        "y_true = np.array([0.7, -1.5, 1.4, -1.1])\n",
        "y_pred = np.array([1.0, 1.7, -1.6, 0.2])\n",
        "np.isclose(root_mean_squared_error(y_true, y_pred), 2.292, atol=0.001)\n"
      ],
      "metadata": {
        "id": "8p-Vl_xKV4qn",
        "outputId": "3d6e9e26-31db-4f30-b624-383b4c61cac7",
        "colab": {
          "base_uri": "https://localhost:8080/"
        }
      },
      "id": "8p-Vl_xKV4qn",
      "execution_count": 21,
      "outputs": [
        {
          "output_type": "execute_result",
          "data": {
            "text/plain": [
              "np.True_"
            ]
          },
          "metadata": {},
          "execution_count": 21
        }
      ]
    },
    {
      "cell_type": "code",
      "source": [
        "np.isclose(root_mean_squared_error(y_true, y_true), 0.0)"
      ],
      "metadata": {
        "id": "O6xRKksiV-wr",
        "outputId": "27abf325-91bb-4965-abaa-769e36a39485",
        "colab": {
          "base_uri": "https://localhost:8080/"
        }
      },
      "id": "O6xRKksiV-wr",
      "execution_count": 22,
      "outputs": [
        {
          "output_type": "execute_result",
          "data": {
            "text/plain": [
              "np.True_"
            ]
          },
          "metadata": {},
          "execution_count": 22
        }
      ]
    },
    {
      "cell_type": "code",
      "execution_count": 23,
      "id": "dd18a0eb",
      "metadata": {
        "deletable": false,
        "editable": false,
        "id": "dd18a0eb",
        "outputId": "c59858bc-8e10-4b14-e237-c9df782d2906",
        "colab": {
          "base_uri": "https://localhost:8080/",
          "height": 46
        }
      },
      "outputs": [
        {
          "output_type": "execute_result",
          "data": {
            "text/plain": [
              "Task4 results: All test cases passed!"
            ],
            "text/html": [
              "<p><strong><pre style='display: inline;'>Task4</pre></strong> passed! ✨</p>"
            ]
          },
          "metadata": {},
          "execution_count": 23
        }
      ],
      "source": [
        "grader.check(\"Task4\")"
      ]
    },
    {
      "cell_type": "markdown",
      "id": "8007bbe1",
      "metadata": {
        "deletable": false,
        "editable": false,
        "id": "8007bbe1"
      },
      "source": [
        "### **Задание 5.** Обучение модели\n",
        "\n",
        "Теперь обучите модель с параметром `n_neighbors=10` на числовых признаках и оцените ее качество\n",
        "\n",
        "_Points:_ 2"
      ]
    },
    {
      "cell_type": "code",
      "execution_count": 24,
      "id": "a08e0638",
      "metadata": {
        "tags": [
          "otter_answer_cell"
        ],
        "id": "a08e0638",
        "outputId": "f477b77a-9f03-4d1f-814d-aff1950aedf6",
        "colab": {
          "base_uri": "https://localhost:8080/"
        }
      },
      "outputs": [
        {
          "output_type": "execute_result",
          "data": {
            "text/plain": [
              "(1000, 6)"
            ]
          },
          "metadata": {},
          "execution_count": 24
        }
      ],
      "source": [
        "NUMERIC_FEATURES = X_train.select_dtypes(include=['number']).columns\n",
        "X_train=X_train[NUMERIC_FEATURES]\n",
        "X_test=X_test[NUMERIC_FEATURES]\n",
        "X_test.shape"
      ]
    },
    {
      "cell_type": "code",
      "execution_count": 25,
      "id": "f08b839d",
      "metadata": {
        "tags": [
          "otter_answer_cell"
        ],
        "id": "f08b839d",
        "outputId": "b9ea65f6-d632-4b0e-9fa7-5d7de4ce777a",
        "colab": {
          "base_uri": "https://localhost:8080/"
        }
      },
      "outputs": [
        {
          "output_type": "stream",
          "name": "stdout",
          "text": [
            "RMSE:\t7.838\n"
          ]
        }
      ],
      "source": [
        "reg = KNeighborsRegressor(n_neighbors=10, weights='distance')\n",
        "reg.fit(X_train,y_train)\n",
        "y_pred = reg.predict(X_test)\n",
        "\n",
        "print(f\"RMSE:\\t{root_mean_squared_error(y_test, y_pred):.3f}\")"
      ]
    },
    {
      "cell_type": "markdown",
      "id": "e6bd39c4",
      "metadata": {
        "deletable": false,
        "editable": false,
        "id": "e6bd39c4"
      },
      "source": [
        "### **Задание 6.** Масштабирование признаков\n",
        "\n",
        "Вспомните, почему так важно масштабировать признаки при использовании KNN. Затем реализуйте класс `StandardScaler` и примените его к нашим данным.\n",
        "\n",
        "_Points:_ 2"
      ]
    },
    {
      "cell_type": "code",
      "execution_count": 26,
      "id": "62c68c66",
      "metadata": {
        "tags": [
          "otter_answer_cell"
        ],
        "id": "62c68c66"
      },
      "outputs": [],
      "source": [
        "class StandardScaler:\n",
        "    @convert_pandas_to_numpy\n",
        "    def fit(self, X: np.ndarray) -> Self:\n",
        "\n",
        "        self.mean_ = X.mean(axis=0)\n",
        "        self.std_ = X.std(axis=0,ddof=0)\n",
        "        self.std_[self.std_==0]=1\n",
        "\n",
        "        return self\n",
        "\n",
        "    @convert_pandas_to_numpy\n",
        "    def transform(self, X: np.ndarray) -> np.ndarray:\n",
        "        return (X-self.mean_)/self.std_\n",
        "\n",
        "    @convert_pandas_to_numpy\n",
        "    def fit_transform(self, X: np.ndarray) -> np.ndarray:\n",
        "        return self.fit(X).transform(X)"
      ]
    },
    {
      "cell_type": "code",
      "execution_count": 27,
      "id": "3d455b3c",
      "metadata": {
        "tags": [
          "otter_answer_cell"
        ],
        "id": "3d455b3c"
      },
      "outputs": [],
      "source": [
        "scaler=StandardScaler()\n",
        "X_train=scaler.fit_transform(X_train)\n",
        "X_test=scaler.fit_transform(X_test)"
      ]
    },
    {
      "cell_type": "code",
      "execution_count": 28,
      "id": "0174ce61",
      "metadata": {
        "tags": [
          "otter_answer_cell"
        ],
        "id": "0174ce61",
        "outputId": "05c55832-d9bf-45d6-f9db-1e8d237dcfeb",
        "colab": {
          "base_uri": "https://localhost:8080/"
        }
      },
      "outputs": [
        {
          "output_type": "stream",
          "name": "stdout",
          "text": [
            "RMSE:\t6.688\n"
          ]
        }
      ],
      "source": [
        "reg = KNeighborsRegressor(n_neighbors=10, weights = 'distance')\n",
        "reg.fit(X_train,y_train)\n",
        "y_pred = reg.predict(X_test)\n",
        "\n",
        "print(f\"RMSE:\\t{root_mean_squared_error(y_test, y_pred):.3f}\")"
      ]
    },
    {
      "cell_type": "code",
      "source": [
        "np.allclose(StandardScaler().fit_transform(np.array([[2.7], [2.9], [2.2], [2.0]])), np.array([[0.687], [1.236], [-0.687], [-1.236]]),atol=0.001)"
      ],
      "metadata": {
        "id": "QsqdEPhHeBiX",
        "outputId": "e4ed4c35-5ed1-446e-eba8-bdc594139ccd",
        "colab": {
          "base_uri": "https://localhost:8080/"
        }
      },
      "id": "QsqdEPhHeBiX",
      "execution_count": 29,
      "outputs": [
        {
          "output_type": "execute_result",
          "data": {
            "text/plain": [
              "True"
            ]
          },
          "metadata": {},
          "execution_count": 29
        }
      ]
    },
    {
      "cell_type": "code",
      "execution_count": 30,
      "id": "bd8bd0c6",
      "metadata": {
        "deletable": false,
        "editable": false,
        "id": "bd8bd0c6",
        "outputId": "8dc89b32-5a41-45a6-b06d-71d761612877",
        "colab": {
          "base_uri": "https://localhost:8080/",
          "height": 46
        }
      },
      "outputs": [
        {
          "output_type": "execute_result",
          "data": {
            "text/plain": [
              "Task6 results: All test cases passed!"
            ],
            "text/html": [
              "<p><strong><pre style='display: inline;'>Task6</pre></strong> passed! 🌟</p>"
            ]
          },
          "metadata": {},
          "execution_count": 30
        }
      ],
      "source": [
        "grader.check(\"Task6\")"
      ]
    },
    {
      "cell_type": "raw",
      "id": "ea864950",
      "metadata": {
        "id": "ea864950"
      },
      "source": []
    },
    {
      "cell_type": "markdown",
      "id": "65911cdb",
      "metadata": {
        "deletable": false,
        "editable": false,
        "id": "65911cdb"
      },
      "source": [
        "## Submission\n",
        "\n",
        "Make sure you have run all cells in your notebook in order before running the cell below, so that all images/graphs appear in the output. The cell below will generate a zip file for you to submit. **Please save before exporting!**"
      ]
    },
    {
      "cell_type": "code",
      "execution_count": null,
      "id": "4553fc99",
      "metadata": {
        "deletable": false,
        "editable": false,
        "id": "4553fc99"
      },
      "outputs": [],
      "source": [
        "# Save your notebook first, then run this cell to export your submission.\n",
        "grader.export(pdf=False, run_tests=True)"
      ]
    },
    {
      "cell_type": "markdown",
      "id": "118a9601",
      "metadata": {
        "id": "118a9601"
      },
      "source": []
    }
  ],
  "metadata": {
    "kernelspec": {
      "display_name": "ml-course",
      "language": "python",
      "name": "python3"
    },
    "language_info": {
      "codemirror_mode": {
        "name": "ipython",
        "version": 3
      },
      "file_extension": ".py",
      "mimetype": "text/x-python",
      "name": "python",
      "nbconvert_exporter": "python",
      "pygments_lexer": "ipython3",
      "version": "3.12.3"
    },
    "otter": {
      "assignment_name": "hw2_nearest_neighbors"
    },
    "colab": {
      "provenance": [],
      "toc_visible": true
    }
  },
  "nbformat": 4,
  "nbformat_minor": 5
}